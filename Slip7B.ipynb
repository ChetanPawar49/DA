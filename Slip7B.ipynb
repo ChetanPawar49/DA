{
 "cells": [
  {
   "cell_type": "code",
   "execution_count": 1,
   "id": "67585fa7",
   "metadata": {},
   "outputs": [],
   "source": [
    "import pandas as pd\n",
    "from mlxtend.preprocessing import TransactionEncoder\n",
    "from mlxtend.frequent_patterns import apriori, association_rules"
   ]
  },
  {
   "cell_type": "code",
   "execution_count": 2,
   "id": "27a9055d",
   "metadata": {},
   "outputs": [],
   "source": [
    "# read the dataset\n",
    "df = pd.read_csv('Market_Basket_Optimisation.csv', header=None)"
   ]
  },
  {
   "cell_type": "code",
   "execution_count": 3,
   "id": "5bdc49cb",
   "metadata": {},
   "outputs": [],
   "source": [
    "# drop null values\n",
    "df.dropna(inplace=True)"
   ]
  },
  {
   "cell_type": "code",
   "execution_count": 4,
   "id": "59363d35",
   "metadata": {},
   "outputs": [],
   "source": [
    "# convert categorical values to numeric using one-hot encoding\n",
    "te = TransactionEncoder()\n",
    "te_ary = te.fit(df.values).transform(df.values)\n",
    "df = pd.DataFrame(te_ary, columns=te.columns_)"
   ]
  },
  {
   "cell_type": "code",
   "execution_count": 5,
   "id": "a82e47cc",
   "metadata": {},
   "outputs": [],
   "source": [
    "# generate frequent itemsets using apriori algorithm\n",
    "frequent_itemsets = apriori(df, min_support=0.01, use_colnames=True)"
   ]
  },
  {
   "cell_type": "code",
   "execution_count": null,
   "id": "7eab5fb5",
   "metadata": {},
   "outputs": [],
   "source": [
    "# generate association rules from frequent itemsets\n",
    "rules = association_rules(frequent_itemsets, metric=\"lift\", min_threshold=1)"
   ]
  },
  {
   "cell_type": "code",
   "execution_count": null,
   "id": "8d279de4",
   "metadata": {},
   "outputs": [],
   "source": [
    "# display information\n",
    "print(\"Original Dataset:\\n\")\n",
    "print(df.head())\n",
    "print(\"\\nFrequent Itemsets:\\n\")\n",
    "print(frequent_itemsets)\n",
    "print(\"\\nAssociation Rules:\\n\")\n",
    "print(rules)"
   ]
  }
 ],
 "metadata": {
  "kernelspec": {
   "display_name": "Python 3 (ipykernel)",
   "language": "python",
   "name": "python3"
  },
  "language_info": {
   "codemirror_mode": {
    "name": "ipython",
    "version": 3
   },
   "file_extension": ".py",
   "mimetype": "text/x-python",
   "name": "python",
   "nbconvert_exporter": "python",
   "pygments_lexer": "ipython3",
   "version": "3.10.6"
  }
 },
 "nbformat": 4,
 "nbformat_minor": 5
}
