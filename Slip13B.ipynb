{
 "cells": [
  {
   "cell_type": "code",
   "execution_count": 1,
   "id": "a6aa5cec",
   "metadata": {},
   "outputs": [],
   "source": [
    "import pandas as pd\n",
    "import numpy as np\n",
    "from sklearn.model_selection import train_test_split\n",
    "from sklearn.linear_model import LinearRegression"
   ]
  },
  {
   "cell_type": "code",
   "execution_count": 2,
   "id": "fc13a697",
   "metadata": {},
   "outputs": [
    {
     "ename": "SyntaxError",
     "evalue": "invalid syntax (4202421271.py, line 2)",
     "output_type": "error",
     "traceback": [
      "\u001b[1;36m  Input \u001b[1;32mIn [2]\u001b[1;36m\u001b[0m\n\u001b[1;33m    url = https://archive.ics.uci.edu/ml/machine-learning-databases/nursery/nursery.data\u001b[0m\n\u001b[1;37m               ^\u001b[0m\n\u001b[1;31mSyntaxError\u001b[0m\u001b[1;31m:\u001b[0m invalid syntax\n"
     ]
    }
   ],
   "source": [
    "# Load the dataset\n",
    "url = https://archive.ics.uci.edu/ml/machine-learning-databases/nursery/nursery.data\n",
    "names = ['parents', 'has_nurs', 'form', 'children', 'housing', 'finance', 'social', 'health', 'class']\n",
    "dataset = pd.read_csv(url, names=names)"
   ]
  },
  {
   "cell_type": "code",
   "execution_count": null,
   "id": "1b6cc73b",
   "metadata": {},
   "outputs": [],
   "source": [
    "# Identify independent and target variables\n",
    "X = dataset.drop('class', axis=1)\n",
    "Y = dataset['class']"
   ]
  },
  {
   "cell_type": "code",
   "execution_count": null,
   "id": "05a1b553",
   "metadata": {},
   "outputs": [],
   "source": [
    "# Convert categorical variables into numerical variables using one-hot encoding\n",
    "X = pd.get_dummies(X)"
   ]
  },
  {
   "cell_type": "code",
   "execution_count": null,
   "id": "01b7a858",
   "metadata": {},
   "outputs": [],
   "source": [
    "# Split into training and testing sets\n",
    "X_train, X_test, Y_train, Y_test = train_test_split(X, Y, test_size=0.2, random_state=42)"
   ]
  },
  {
   "cell_type": "code",
   "execution_count": null,
   "id": "cf56594f",
   "metadata": {},
   "outputs": [],
   "source": [
    "# Build a linear regression model\n",
    "model = LinearRegression()\n",
    "model.fit(X_train, Y_train)"
   ]
  },
  {
   "cell_type": "code",
   "execution_count": null,
   "id": "b3b20ccc",
   "metadata": {},
   "outputs": [],
   "source": [
    "# Print the coefficients of the model\n",
    "print(\"Intercept: \", model.intercept_)\n",
    "print(\"Coefficients: \", model.coef_)"
   ]
  },
  {
   "cell_type": "code",
   "execution_count": null,
   "id": "76fb87d7",
   "metadata": {},
   "outputs": [],
   "source": [
    "# Predict the target variable for the testing set\n",
    "Y_pred = model.predict(X_test)"
   ]
  },
  {
   "cell_type": "code",
   "execution_count": null,
   "id": "689c4445",
   "metadata": {},
   "outputs": [],
   "source": [
    "# Evaluate the model using Mean Squared Error (MSE)\n",
    "mse = np.mean((Y_test – Y_pred) ** 2)\n",
    "print(\"MSE: \", mse)"
   ]
  }
 ],
 "metadata": {
  "kernelspec": {
   "display_name": "Python 3 (ipykernel)",
   "language": "python",
   "name": "python3"
  },
  "language_info": {
   "codemirror_mode": {
    "name": "ipython",
    "version": 3
   },
   "file_extension": ".py",
   "mimetype": "text/x-python",
   "name": "python",
   "nbconvert_exporter": "python",
   "pygments_lexer": "ipython3",
   "version": "3.10.6"
  }
 },
 "nbformat": 4,
 "nbformat_minor": 5
}
