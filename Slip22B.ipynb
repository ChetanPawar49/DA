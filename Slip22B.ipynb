{
 "cells": [
  {
   "cell_type": "code",
   "execution_count": 1,
   "id": "9a5c8b41",
   "metadata": {},
   "outputs": [],
   "source": [
    "import nltk\n",
    "from nltk.corpus import stopwords\n",
    "from nltk.tokenize import word_tokenize"
   ]
  },
  {
   "cell_type": "code",
   "execution_count": 2,
   "id": "580b9a9a",
   "metadata": {},
   "outputs": [],
   "source": [
    "# sample text paragraph\n",
    "text = \"Hello all, Welcome to Python Programming Academy. Python Programming Academy is a nice platform to learn new programming skills. It is difficult to get enrolled in this Academy.\""
   ]
  },
  {
   "cell_type": "code",
   "execution_count": 3,
   "id": "660894bd",
   "metadata": {},
   "outputs": [],
   "source": [
    "# tokenize the text paragraph\n",
    "words = word_tokenize(text)"
   ]
  },
  {
   "cell_type": "code",
   "execution_count": 4,
   "id": "cc9df9d5",
   "metadata": {},
   "outputs": [],
   "source": [
    "# define stopwords\n",
    "stop_words = set(stopwords.words('english'))"
   ]
  },
  {
   "cell_type": "code",
   "execution_count": 5,
   "id": "45b5d59b",
   "metadata": {},
   "outputs": [],
   "source": [
    "# remove stopwords\n",
    "filtered_words = [word for word in words if word.casefold() not in stop_words]"
   ]
  },
  {
   "cell_type": "code",
   "execution_count": 6,
   "id": "3a2023f0",
   "metadata": {},
   "outputs": [
    {
     "name": "stdout",
     "output_type": "stream",
     "text": [
      "Hello , Welcome Python Programming Academy . Python Programming Academy nice platform learn new programming skills . difficult get enrolled Academy .\n"
     ]
    }
   ],
   "source": [
    "# join filtered words to form a sentence\n",
    "filtered_sentence = ' '.join(filtered_words)\n",
    "print(filtered_sentence)"
   ]
  }
 ],
 "metadata": {
  "kernelspec": {
   "display_name": "Python 3 (ipykernel)",
   "language": "python",
   "name": "python3"
  },
  "language_info": {
   "codemirror_mode": {
    "name": "ipython",
    "version": 3
   },
   "file_extension": ".py",
   "mimetype": "text/x-python",
   "name": "python",
   "nbconvert_exporter": "python",
   "pygments_lexer": "ipython3",
   "version": "3.10.6"
  }
 },
 "nbformat": 4,
 "nbformat_minor": 5
}
