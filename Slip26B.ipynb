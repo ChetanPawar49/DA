{
 "cells": [
  {
   "cell_type": "code",
   "execution_count": 1,
   "id": "fbe296d5",
   "metadata": {},
   "outputs": [],
   "source": [
    "import re\n",
    "from nltk.tokenize import sent_tokenize\n",
    "from sklearn.feature_extraction.text import TfidfVectorizer\n",
    "from sklearn.metrics.pairwise import cosine_similarity"
   ]
  },
  {
   "cell_type": "code",
   "execution_count": 2,
   "id": "ea118a43",
   "metadata": {},
   "outputs": [],
   "source": [
    "# Text to summarize\n",
    "text = \"Hello all, Welcome to Python Programming Academy. Python Programming Academy is a nice platform to learn new programming skills. It is difficult to get enrolled in this Academy.\""
   ]
  },
  {
   "cell_type": "code",
   "execution_count": 3,
   "id": "e1a38e71",
   "metadata": {},
   "outputs": [],
   "source": [
    "# Preprocess the text to remove special characters and digits\n",
    "preprocessed_text = re.sub(r'[^a-zA-Z\\s]', '', text)"
   ]
  },
  {
   "cell_type": "code",
   "execution_count": 4,
   "id": "15b75767",
   "metadata": {},
   "outputs": [],
   "source": [
    "# Tokenize the preprocessed text into sentences\n",
    "sentences = sent_tokenize(preprocessed_text)"
   ]
  },
  {
   "cell_type": "code",
   "execution_count": 5,
   "id": "a425f6b6",
   "metadata": {},
   "outputs": [],
   "source": [
    "# Calculate the importance score of each sentence using TF-IDF\n",
    "vectorizer = TfidfVectorizer()\n",
    "tfidf_matrix = vectorizer.fit_transform(sentences)\n",
    "similarity_matrix = cosine_similarity(tfidf_matrix)"
   ]
  },
  {
   "cell_type": "code",
   "execution_count": 6,
   "id": "33ef4064",
   "metadata": {},
   "outputs": [],
   "source": [
    "# Select top N sentences based on their importance score\n",
    "n = 2\n",
    "top_sentences = sorted(range(len(similarity_matrix[-1])), key=lambda i: similarity_matrix[-1][i])[-n:]"
   ]
  },
  {
   "cell_type": "code",
   "execution_count": 7,
   "id": "da0f606b",
   "metadata": {},
   "outputs": [
    {
     "name": "stdout",
     "output_type": "stream",
     "text": [
      "Hello all Welcome to Python Programming Academy Python Programming Academy is a nice platform to learn new programming skills It is difficult to get enrolled in this Academy \n"
     ]
    }
   ],
   "source": [
    "# Concatenate the top sentences to form the summary\n",
    "summary = ''\n",
    "for i in top_sentences:\n",
    "    summary += sentences[i] + ' '\n",
    "print(summary)"
   ]
  }
 ],
 "metadata": {
  "kernelspec": {
   "display_name": "Python 3 (ipykernel)",
   "language": "python",
   "name": "python3"
  },
  "language_info": {
   "codemirror_mode": {
    "name": "ipython",
    "version": 3
   },
   "file_extension": ".py",
   "mimetype": "text/x-python",
   "name": "python",
   "nbconvert_exporter": "python",
   "pygments_lexer": "ipython3",
   "version": "3.10.6"
  }
 },
 "nbformat": 4,
 "nbformat_minor": 5
}
