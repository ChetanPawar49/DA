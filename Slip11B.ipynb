{
 "cells": [
  {
   "cell_type": "code",
   "execution_count": 8,
   "id": "ed86fa95",
   "metadata": {},
   "outputs": [],
   "source": [
    "import pandas as pd\n",
    "from mlxtend.preprocessing import TransactionEncoder\n",
    "from mlxtend.frequent_patterns import apriori, association_rules"
   ]
  },
  {
   "cell_type": "code",
   "execution_count": 14,
   "id": "f8701dee",
   "metadata": {},
   "outputs": [],
   "source": [
    "# Creating the dataset\n",
    "dataset = {1: ['butter', 'bread', 'milk'],\n",
    "           2: ['butter', 'flour', 'milk', 'sugar'],\n",
    "           3: ['butter', 'eggs', 'milk', 'salt'],\n",
    "           4: ['eggs'],\n",
    "           5: ['butter', 'flour', 'milk', 'salt']}"
   ]
  },
  {
   "cell_type": "code",
   "execution_count": 15,
   "id": "5c21f3d5",
   "metadata": {},
   "outputs": [],
   "source": [
    "# Convert categorical values into numeric format\n",
    "te = TransactionEncoder()\n",
    "te_ary = te.fit(dataset.values()).transform(dataset.values())\n",
    "df = pd.DataFrame(te_ary, columns=te.columns_)"
   ]
  },
  {
   "cell_type": "code",
   "execution_count": 16,
   "id": "d37a8883",
   "metadata": {},
   "outputs": [],
   "source": [
    "# Apply Apriori algorithm to generate frequent itemsets and association rules\n",
    "min_sup = 0.4\n",
    "frequent_itemsets = apriori(df, min_support=min_sup, use_colnames=True)\n",
    "association_rules = association_rules(frequent_itemsets, metric=\"confidence\", min_threshold=0.6)"
   ]
  },
  {
   "cell_type": "code",
   "execution_count": 17,
   "id": "7f096d66",
   "metadata": {},
   "outputs": [
    {
     "name": "stdout",
     "output_type": "stream",
     "text": [
      "Frequent Itemsets:\n",
      "     support               itemsets\n",
      "0       0.8               (butter)\n",
      "1       0.4                 (eggs)\n",
      "2       0.4                (flour)\n",
      "3       0.8                 (milk)\n",
      "4       0.4                 (salt)\n",
      "5       0.4        (butter, flour)\n",
      "6       0.8         (butter, milk)\n",
      "7       0.4         (salt, butter)\n",
      "8       0.4          (flour, milk)\n",
      "9       0.4           (salt, milk)\n",
      "10      0.4  (butter, flour, milk)\n",
      "11      0.4   (salt, butter, milk)\n",
      "\n",
      "Association Rules:\n",
      "         antecedents     consequents  antecedent support  consequent support  \\\n",
      "0           (flour)        (butter)                 0.4                 0.8   \n",
      "1          (butter)          (milk)                 0.8                 0.8   \n",
      "2            (milk)        (butter)                 0.8                 0.8   \n",
      "3            (salt)        (butter)                 0.4                 0.8   \n",
      "4           (flour)          (milk)                 0.4                 0.8   \n",
      "5            (salt)          (milk)                 0.4                 0.8   \n",
      "6   (butter, flour)          (milk)                 0.4                 0.8   \n",
      "7     (flour, milk)        (butter)                 0.4                 0.8   \n",
      "8           (flour)  (butter, milk)                 0.4                 0.8   \n",
      "9    (butter, salt)          (milk)                 0.4                 0.8   \n",
      "10     (salt, milk)        (butter)                 0.4                 0.8   \n",
      "11           (salt)  (butter, milk)                 0.4                 0.8   \n",
      "\n",
      "    support  confidence  lift  leverage  conviction  zhangs_metric  \n",
      "0       0.4         1.0  1.25      0.08         inf       0.333333  \n",
      "1       0.8         1.0  1.25      0.16         inf       1.000000  \n",
      "2       0.8         1.0  1.25      0.16         inf       1.000000  \n",
      "3       0.4         1.0  1.25      0.08         inf       0.333333  \n",
      "4       0.4         1.0  1.25      0.08         inf       0.333333  \n",
      "5       0.4         1.0  1.25      0.08         inf       0.333333  \n",
      "6       0.4         1.0  1.25      0.08         inf       0.333333  \n",
      "7       0.4         1.0  1.25      0.08         inf       0.333333  \n",
      "8       0.4         1.0  1.25      0.08         inf       0.333333  \n",
      "9       0.4         1.0  1.25      0.08         inf       0.333333  \n",
      "10      0.4         1.0  1.25      0.08         inf       0.333333  \n",
      "11      0.4         1.0  1.25      0.08         inf       0.333333  \n"
     ]
    }
   ],
   "source": [
    "# Print the frequent itemsets and association rules\n",
    "print(\"Frequent Itemsets:\\n\", frequent_itemsets)\n",
    "print(\"\\nAssociation Rules:\\n\", association_rules)"
   ]
  }
 ],
 "metadata": {
  "kernelspec": {
   "display_name": "Python 3 (ipykernel)",
   "language": "python",
   "name": "python3"
  },
  "language_info": {
   "codemirror_mode": {
    "name": "ipython",
    "version": 3
   },
   "file_extension": ".py",
   "mimetype": "text/x-python",
   "name": "python",
   "nbconvert_exporter": "python",
   "pygments_lexer": "ipython3",
   "version": "3.10.6"
  }
 },
 "nbformat": 4,
 "nbformat_minor": 5
}
