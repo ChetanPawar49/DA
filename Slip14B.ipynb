{
 "cells": [
  {
   "cell_type": "code",
   "execution_count": 1,
   "id": "9bf75932",
   "metadata": {},
   "outputs": [],
   "source": [
    "import pandas as pd\n",
    "from mlxtend.preprocessing import TransactionEncoder\n",
    "from mlxtend.frequent_patterns import apriori, association_rules"
   ]
  },
  {
   "cell_type": "code",
   "execution_count": 2,
   "id": "71df208f",
   "metadata": {},
   "outputs": [],
   "source": [
    "# Create the dataset\n",
    "dataset = {1:[\"apple\",\"mango\",\"banana\"],\n",
    "           2:[\"mango\",\"banana\",\"cabbage\",\"carrots\"],\n",
    "           3:[\"mango\",\"banana\",\"carrots\"],\n",
    "           4:[\"mango\",\"carrots\"]}"
   ]
  },
  {
   "cell_type": "code",
   "execution_count": 3,
   "id": "0bf3871e",
   "metadata": {},
   "outputs": [],
   "source": [
    "# Convert categorical values into numeric format\n",
    "te = TransactionEncoder()\n",
    "te_ary = te.fit(dataset.values()).transform(dataset.values())\n",
    "df = pd.DataFrame(te_ary, columns=te.columns_)"
   ]
  },
  {
   "cell_type": "code",
   "execution_count": 4,
   "id": "6abe24c6",
   "metadata": {},
   "outputs": [],
   "source": [
    "# Apply Apriori algorithm to generate frequent itemsets and association rules\n",
    "min_sup = 0.4\n",
    "frequent_itemsets = apriori(df, min_support=min_sup, use_colnames=True)\n",
    "association_rules = association_rules(frequent_itemsets, metric=\"confidence\", min_threshold=0.6)"
   ]
  },
  {
   "cell_type": "code",
   "execution_count": 5,
   "id": "702955f3",
   "metadata": {},
   "outputs": [
    {
     "name": "stdout",
     "output_type": "stream",
     "text": [
      "Frequent Itemsets:\n",
      "    support                  itemsets\n",
      "0     0.75                  (banana)\n",
      "1     0.75                 (carrots)\n",
      "2     1.00                   (mango)\n",
      "3     0.50         (carrots, banana)\n",
      "4     0.75           (mango, banana)\n",
      "5     0.75          (mango, carrots)\n",
      "6     0.50  (mango, carrots, banana)\n",
      "\n",
      "Association Rules:\n",
      "           antecedents       consequents  antecedent support  \\\n",
      "0           (carrots)          (banana)                0.75   \n",
      "1            (banana)         (carrots)                0.75   \n",
      "2             (mango)          (banana)                1.00   \n",
      "3            (banana)           (mango)                0.75   \n",
      "4             (mango)         (carrots)                1.00   \n",
      "5           (carrots)           (mango)                0.75   \n",
      "6    (mango, carrots)          (banana)                0.75   \n",
      "7     (mango, banana)         (carrots)                0.75   \n",
      "8   (carrots, banana)           (mango)                0.50   \n",
      "9           (carrots)   (mango, banana)                0.75   \n",
      "10           (banana)  (mango, carrots)                0.75   \n",
      "\n",
      "    consequent support  support  confidence      lift  leverage  conviction  \\\n",
      "0                 0.75     0.50    0.666667  0.888889   -0.0625        0.75   \n",
      "1                 0.75     0.50    0.666667  0.888889   -0.0625        0.75   \n",
      "2                 0.75     0.75    0.750000  1.000000    0.0000        1.00   \n",
      "3                 1.00     0.75    1.000000  1.000000    0.0000         inf   \n",
      "4                 0.75     0.75    0.750000  1.000000    0.0000        1.00   \n",
      "5                 1.00     0.75    1.000000  1.000000    0.0000         inf   \n",
      "6                 0.75     0.50    0.666667  0.888889   -0.0625        0.75   \n",
      "7                 0.75     0.50    0.666667  0.888889   -0.0625        0.75   \n",
      "8                 1.00     0.50    1.000000  1.000000    0.0000         inf   \n",
      "9                 0.75     0.50    0.666667  0.888889   -0.0625        0.75   \n",
      "10                0.75     0.50    0.666667  0.888889   -0.0625        0.75   \n",
      "\n",
      "    zhangs_metric  \n",
      "0       -0.333333  \n",
      "1       -0.333333  \n",
      "2        0.000000  \n",
      "3        0.000000  \n",
      "4        0.000000  \n",
      "5        0.000000  \n",
      "6       -0.333333  \n",
      "7       -0.333333  \n",
      "8        0.000000  \n",
      "9       -0.333333  \n",
      "10      -0.333333  \n"
     ]
    }
   ],
   "source": [
    "# Print the frequent itemsets and association rules\n",
    "print(\"Frequent Itemsets:\\n\", frequent_itemsets)\n",
    "print(\"\\nAssociation Rules:\\n\", association_rules)"
   ]
  }
 ],
 "metadata": {
  "kernelspec": {
   "display_name": "Python 3 (ipykernel)",
   "language": "python",
   "name": "python3"
  },
  "language_info": {
   "codemirror_mode": {
    "name": "ipython",
    "version": 3
   },
   "file_extension": ".py",
   "mimetype": "text/x-python",
   "name": "python",
   "nbconvert_exporter": "python",
   "pygments_lexer": "ipython3",
   "version": "3.10.6"
  }
 },
 "nbformat": 4,
 "nbformat_minor": 5
}
