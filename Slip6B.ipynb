{
 "cells": [
  {
   "cell_type": "code",
   "execution_count": 1,
   "id": "c203541c",
   "metadata": {},
   "outputs": [],
   "source": [
    "import pandas as pd\n",
    "from mlxtend.preprocessing import TransactionEncoder\n",
    "from mlxtend.frequent_patterns import apriori, association_rules"
   ]
  },
  {
   "cell_type": "code",
   "execution_count": 2,
   "id": "532b6370",
   "metadata": {},
   "outputs": [],
   "source": [
    "# create the dataset\n",
    "TID = {1:[\"bread\",\"milk\"],\n",
    "       2:[\"bread\",\"diaper\",\"beer\",\"eggs\"],\n",
    "       3:[\"milk\",\"diaper\",\"beer\",\"coke\"],\n",
    "       4:[\"bread\",\"milk\",\"diaper\",\"beer\"],\n",
    "       5:[\"bread\",\"milk\",\"diaper\",\"coke\"]}\n",
    "transactions = []\n",
    "for key, value in TID.items():\n",
    "    transactions.append(value)"
   ]
  },
  {
   "cell_type": "code",
   "execution_count": 3,
   "id": "9c82116c",
   "metadata": {},
   "outputs": [],
   "source": [
    "# convert the categorical values into numeric format\n",
    "te = TransactionEncoder()\n",
    "te_ary = te.fit_transform(transactions)\n",
    "df = pd.DataFrame(te_ary, columns=te.columns_)"
   ]
  },
  {
   "cell_type": "code",
   "execution_count": 4,
   "id": "a8683687",
   "metadata": {},
   "outputs": [
    {
     "name": "stdout",
     "output_type": "stream",
     "text": [
      "Min_sup: 0.6\n",
      "Frequent Itemsets:\n",
      "   support         itemsets\n",
      "0      0.6           (beer)\n",
      "1      0.8          (bread)\n",
      "2      0.8         (diaper)\n",
      "3      0.8           (milk)\n",
      "4      0.6   (diaper, beer)\n",
      "5      0.6  (bread, diaper)\n",
      "6      0.6    (bread, milk)\n",
      "7      0.6   (milk, diaper)\n",
      "Association Rules:\n",
      "  antecedents consequents  antecedent support  consequent support  support  \\\n",
      "0    (diaper)      (beer)                 0.8                 0.6      0.6   \n",
      "1      (beer)    (diaper)                 0.6                 0.8      0.6   \n",
      "2     (bread)    (diaper)                 0.8                 0.8      0.6   \n",
      "3    (diaper)     (bread)                 0.8                 0.8      0.6   \n",
      "4     (bread)      (milk)                 0.8                 0.8      0.6   \n",
      "5      (milk)     (bread)                 0.8                 0.8      0.6   \n",
      "6      (milk)    (diaper)                 0.8                 0.8      0.6   \n",
      "7    (diaper)      (milk)                 0.8                 0.8      0.6   \n",
      "\n",
      "   confidence    lift  leverage  conviction  zhangs_metric  \n",
      "0        0.75  1.2500      0.12         1.6           1.00  \n",
      "1        1.00  1.2500      0.12         inf           0.50  \n",
      "2        0.75  0.9375     -0.04         0.8          -0.25  \n",
      "3        0.75  0.9375     -0.04         0.8          -0.25  \n",
      "4        0.75  0.9375     -0.04         0.8          -0.25  \n",
      "5        0.75  0.9375     -0.04         0.8          -0.25  \n",
      "6        0.75  0.9375     -0.04         0.8          -0.25  \n",
      "7        0.75  0.9375     -0.04         0.8          -0.25  \n"
     ]
    }
   ],
   "source": [
    "# apply the apriori algorithm with different min_sup values\n",
    "min_sup_values = [0.2, 0.4, 0.6]\n",
    "for min_sup in min_sup_values:\n",
    "    frequent_itemsets = apriori(df, min_support=min_sup, use_colnames=True)\n",
    "rules = association_rules(frequent_itemsets, metric=\"confidence\", min_threshold=0.7)\n",
    "print(\"Min_sup:\", min_sup)\n",
    "print(\"Frequent Itemsets:\")\n",
    "print(frequent_itemsets)\n",
    "print(\"Association Rules:\")\n",
    "print(rules)"
   ]
  }
 ],
 "metadata": {
  "kernelspec": {
   "display_name": "Python 3 (ipykernel)",
   "language": "python",
   "name": "python3"
  },
  "language_info": {
   "codemirror_mode": {
    "name": "ipython",
    "version": 3
   },
   "file_extension": ".py",
   "mimetype": "text/x-python",
   "name": "python",
   "nbconvert_exporter": "python",
   "pygments_lexer": "ipython3",
   "version": "3.10.6"
  }
 },
 "nbformat": 4,
 "nbformat_minor": 5
}
