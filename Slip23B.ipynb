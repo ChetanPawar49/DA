{
 "cells": [
  {
   "cell_type": "code",
   "execution_count": 1,
   "id": "89823031",
   "metadata": {},
   "outputs": [],
   "source": [
    "import re"
   ]
  },
  {
   "cell_type": "code",
   "execution_count": 2,
   "id": "386802d4",
   "metadata": {},
   "outputs": [],
   "source": [
    "text = \"Hello, #world123! This is a sample text paragraph. It contains special characters and 5 digits.\""
   ]
  },
  {
   "cell_type": "code",
   "execution_count": 3,
   "id": "b56883fc",
   "metadata": {},
   "outputs": [
    {
     "name": "stdout",
     "output_type": "stream",
     "text": [
      "Hello world This is a sample text paragraph It contains special characters and  digits\n"
     ]
    }
   ],
   "source": [
    "# Remove special characters and digits\n",
    "processed_text = re.sub(r'[^a-zA-Z\\s]', '', text)\n",
    "print(processed_text)"
   ]
  }
 ],
 "metadata": {
  "kernelspec": {
   "display_name": "Python 3 (ipykernel)",
   "language": "python",
   "name": "python3"
  },
  "language_info": {
   "codemirror_mode": {
    "name": "ipython",
    "version": 3
   },
   "file_extension": ".py",
   "mimetype": "text/x-python",
   "name": "python",
   "nbconvert_exporter": "python",
   "pygments_lexer": "ipython3",
   "version": "3.10.6"
  }
 },
 "nbformat": 4,
 "nbformat_minor": 5
}
