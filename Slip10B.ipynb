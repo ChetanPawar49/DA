{
 "cells": [
  {
   "cell_type": "code",
   "execution_count": 3,
   "id": "3fe32e53",
   "metadata": {},
   "outputs": [],
   "source": [
    "import pandas as pd\n",
    "from mlxtend.preprocessing import TransactionEncoder\n",
    "from mlxtend.frequent_patterns import apriori, association_rules"
   ]
  },
  {
   "cell_type": "code",
   "execution_count": 4,
   "id": "c0b77a89",
   "metadata": {},
   "outputs": [],
   "source": [
    "# Create the dataset\n",
    "dataset = {\n",
    " 1: [\"eggs\",\"milk\",\"bread\"],\n",
    " 2: [\"eggs\",\"apple\"],\n",
    " 3: [\"milk\",\"bread\"],\n",
    " 4: [\"apple\",\"milk\"],\n",
    " 5: [\"milk\",\"apple\",\"bread\"]\n",
    "}"
   ]
  },
  {
   "cell_type": "code",
   "execution_count": 5,
   "id": "b0dbd602",
   "metadata": {},
   "outputs": [],
   "source": [
    "# Convert categorical values into numeric format\n",
    "te = TransactionEncoder()\n",
    "te_ary = te.fit(dataset.values()).transform(dataset.values())\n",
    "df = pd.DataFrame(te_ary, columns=te.columns_)"
   ]
  },
  {
   "cell_type": "code",
   "execution_count": 7,
   "id": "ef242a80",
   "metadata": {},
   "outputs": [],
   "source": [
    "# Apply Apriori algorithm to generate frequent itemsets and association rules\n",
    "min_sup = 0.4\n",
    "frequent_itemsets = apriori(df, min_support=min_sup, use_colnames=True)\n",
    "association_rules = association_rules(frequent_itemsets, metric=\"confidence\", min_threshold=0.6)"
   ]
  },
  {
   "cell_type": "code",
   "execution_count": 9,
   "id": "c66644d4",
   "metadata": {},
   "outputs": [
    {
     "name": "stdout",
     "output_type": "stream",
     "text": [
      "Frequent Itemsets:\n",
      "    support       itemsets\n",
      "0      0.6        (apple)\n",
      "1      0.6        (bread)\n",
      "2      0.4         (eggs)\n",
      "3      0.8         (milk)\n",
      "4      0.4  (milk, apple)\n",
      "5      0.6  (milk, bread)\n",
      "\n",
      "Association Rules:\n",
      "   antecedents consequents  antecedent support  consequent support  support  \\\n",
      "0     (apple)      (milk)                 0.6                 0.8      0.4   \n",
      "1      (milk)     (bread)                 0.8                 0.6      0.6   \n",
      "2     (bread)      (milk)                 0.6                 0.8      0.6   \n",
      "\n",
      "   confidence      lift  leverage  conviction  zhangs_metric  \n",
      "0    0.666667  0.833333     -0.08         0.6      -0.333333  \n",
      "1    0.750000  1.250000      0.12         1.6       1.000000  \n",
      "2    1.000000  1.250000      0.12         inf       0.500000  \n"
     ]
    }
   ],
   "source": [
    "# Print the frequent itemsets and association rules\n",
    "print(\"Frequent Itemsets:\\n\", frequent_itemsets)\n",
    "print(\"\\nAssociation Rules:\\n\", association_rules)"
   ]
  }
 ],
 "metadata": {
  "kernelspec": {
   "display_name": "Python 3 (ipykernel)",
   "language": "python",
   "name": "python3"
  },
  "language_info": {
   "codemirror_mode": {
    "name": "ipython",
    "version": 3
   },
   "file_extension": ".py",
   "mimetype": "text/x-python",
   "name": "python",
   "nbconvert_exporter": "python",
   "pygments_lexer": "ipython3",
   "version": "3.10.6"
  }
 },
 "nbformat": 4,
 "nbformat_minor": 5
}
