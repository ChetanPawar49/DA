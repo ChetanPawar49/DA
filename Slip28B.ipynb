{
 "cells": [
  {
   "cell_type": "code",
   "execution_count": 1,
   "id": "9f66655b",
   "metadata": {},
   "outputs": [],
   "source": [
    "from sklearn.linear_model import LinearRegression"
   ]
  },
  {
   "cell_type": "code",
   "execution_count": 2,
   "id": "d5509102",
   "metadata": {},
   "outputs": [],
   "source": [
    "mileage = [[10], [20], [30], [40], [50], [60], [70], [80]]\n",
    "price = [24, 19, 17, 13, 10, 7, 5, 2]"
   ]
  },
  {
   "cell_type": "code",
   "execution_count": 3,
   "id": "4eae3d14",
   "metadata": {},
   "outputs": [
    {
     "name": "stdout",
     "output_type": "stream",
     "text": [
      "Intercept: 25.892857142857146\n",
      "Coefficient: -0.305952380952381\n"
     ]
    }
   ],
   "source": [
    "reg = LinearRegression().fit(mileage, price)\n",
    "print('Intercept:', reg.intercept_)\n",
    "print('Coefficient:', reg.coef_[0])"
   ]
  },
  {
   "cell_type": "code",
   "execution_count": 4,
   "id": "467bc2ba",
   "metadata": {},
   "outputs": [
    {
     "name": "stdout",
     "output_type": "stream",
     "text": [
      "Predicted prices: [18.24404762 12.125       6.00595238]\n"
     ]
    }
   ],
   "source": [
    "new_mileage = [[25], [45], [65]]\n",
    "predicted_price = reg.predict(new_mileage)\n",
    "print('Predicted prices:', predicted_price)"
   ]
  }
 ],
 "metadata": {
  "kernelspec": {
   "display_name": "Python 3 (ipykernel)",
   "language": "python",
   "name": "python3"
  },
  "language_info": {
   "codemirror_mode": {
    "name": "ipython",
    "version": 3
   },
   "file_extension": ".py",
   "mimetype": "text/x-python",
   "name": "python",
   "nbconvert_exporter": "python",
   "pygments_lexer": "ipython3",
   "version": "3.10.6"
  }
 },
 "nbformat": 4,
 "nbformat_minor": 5
}
