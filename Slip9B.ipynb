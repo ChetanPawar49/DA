{
 "cells": [
  {
   "cell_type": "code",
   "execution_count": 7,
   "id": "34be8600",
   "metadata": {},
   "outputs": [],
   "source": [
    "import pandas as pd\n",
    "from mlxtend.preprocessing import TransactionEncoder\n",
    "from mlxtend.frequent_patterns import apriori, association_rules"
   ]
  },
  {
   "cell_type": "code",
   "execution_count": 8,
   "id": "9ef960fd",
   "metadata": {},
   "outputs": [],
   "source": [
    "items=['item1','item2','item3','item4']\n",
    "transactions = [ ['item1', 'item2', 'item3'],\n",
    "                 ['item2', 'item3'],\n",
    "                 ['item1', 'item2', 'item4'],\n",
    "                 ['item1', 'item4'],\n",
    "                 ['item2', 'item3', 'item4'],\n",
    "                 ['item1', 'item3', 'item4'],\n",
    "                 ['item1', 'item2'],\n",
    "                 ['item1', 'item3'],\n",
    "                 ['item3', 'item4'],\n",
    "                 ['item2', 'item4']\n",
    "                ]"
   ]
  },
  {
   "cell_type": "code",
   "execution_count": 9,
   "id": "7360b41a",
   "metadata": {},
   "outputs": [],
   "source": [
    "# Convert the transactions into a binary matrix\n",
    "te = TransactionEncoder()\n",
    "te_ary = te.fit_transform(transactions)"
   ]
  },
  {
   "cell_type": "code",
   "execution_count": 10,
   "id": "c4e98cf2",
   "metadata": {},
   "outputs": [],
   "source": [
    "# Convert the binary matrix into a pandas DataFrame\n",
    "df = pd.DataFrame(te_ary, columns=te.columns_)"
   ]
  },
  {
   "cell_type": "code",
   "execution_count": 12,
   "id": "f102df42",
   "metadata": {},
   "outputs": [],
   "source": [
    "# Generate frequent itemsets with a minimum support of 0.3\n",
    "frequent_itemsets = apriori(df, min_support=0.3, use_colnames=True)"
   ]
  },
  {
   "cell_type": "code",
   "execution_count": 13,
   "id": "8aaa5087",
   "metadata": {},
   "outputs": [],
   "source": [
    "# Generate association rules with a minimum confidence of 0.7\n",
    "association_rules = association_rules(frequent_itemsets, metric=\"confidence\", min_threshold=0.7)"
   ]
  },
  {
   "cell_type": "code",
   "execution_count": 14,
   "id": "34534646",
   "metadata": {},
   "outputs": [
    {
     "name": "stdout",
     "output_type": "stream",
     "text": [
      "   support        itemsets\n",
      "0      0.6         (item1)\n",
      "1      0.6         (item2)\n",
      "2      0.6         (item3)\n",
      "3      0.6         (item4)\n",
      "4      0.3  (item1, item2)\n",
      "5      0.3  (item1, item3)\n",
      "6      0.3  (item1, item4)\n",
      "7      0.3  (item3, item2)\n",
      "8      0.3  (item4, item2)\n",
      "9      0.3  (item4, item3)\n",
      "Empty DataFrame\n",
      "Columns: [antecedents, consequents, antecedent support, consequent support, support, confidence, lift, leverage, conviction, zhangs_metric]\n",
      "Index: []\n"
     ]
    }
   ],
   "source": [
    "# Print the frequent itemsets and association rules\n",
    "print(frequent_itemsets)\n",
    "print(association_rules)"
   ]
  }
 ],
 "metadata": {
  "kernelspec": {
   "display_name": "Python 3 (ipykernel)",
   "language": "python",
   "name": "python3"
  },
  "language_info": {
   "codemirror_mode": {
    "name": "ipython",
    "version": 3
   },
   "file_extension": ".py",
   "mimetype": "text/x-python",
   "name": "python",
   "nbconvert_exporter": "python",
   "pygments_lexer": "ipython3",
   "version": "3.10.6"
  }
 },
 "nbformat": 4,
 "nbformat_minor": 5
}
