{
 "cells": [
  {
   "cell_type": "code",
   "execution_count": 1,
   "id": "e51b0661",
   "metadata": {},
   "outputs": [],
   "source": [
    "import re\n",
    "from nltk.tokenize import sent_tokenize"
   ]
  },
  {
   "cell_type": "code",
   "execution_count": 2,
   "id": "6321357c",
   "metadata": {},
   "outputs": [],
   "source": [
    "# Text paragraph\n",
    "text = \"So, keep working. Keep striving. Never give up. Fall down seven times, get up eight. Ease is a greater threat to progress than hardship. Ease is a greater threat to progress than hardship. So, keep moving, keep growing, keep learning. See you at work.\""
   ]
  },
  {
   "cell_type": "code",
   "execution_count": 3,
   "id": "fcd64d39",
   "metadata": {},
   "outputs": [],
   "source": [
    "# Remove special characters and digits\n",
    "Text = re.sub('[^A-Za-z]+', ' ', text)"
   ]
  },
  {
   "cell_type": "code",
   "execution_count": 4,
   "id": "42a2950a",
   "metadata": {},
   "outputs": [],
   "source": [
    "# Tokenize the sentences\n",
    "sentences = sent_tokenize(text)"
   ]
  },
  {
   "cell_type": "code",
   "execution_count": 5,
   "id": "344c15b0",
   "metadata": {},
   "outputs": [],
   "source": [
    "# Calculate the score of each sentence based on the number of words\n",
    "# The sentences with more words will have a higher score\n",
    "scores = {}\n",
    "for sentence in sentences:\n",
    "    words = sentence.split()\n",
    "    score = len(words)\n",
    "    scores[sentence] = score"
   ]
  },
  {
   "cell_type": "code",
   "execution_count": 6,
   "id": "c18f6019",
   "metadata": {},
   "outputs": [],
   "source": [
    "# Sort the sentences based on their scores\n",
    "sorted_sentences = sorted(scores.items(), key=lambda x: x[1], reverse=True)"
   ]
  },
  {
   "cell_type": "code",
   "execution_count": 7,
   "id": "c0716de9",
   "metadata": {},
   "outputs": [],
   "source": [
    "# Extract the top 2 sentences with the highest scores as the summary\n",
    "summary_sentences = [sentence[0] for sentence in sorted_sentences[:2]]\n",
    "summary = \" \".join(summary_sentences)"
   ]
  },
  {
   "cell_type": "code",
   "execution_count": 8,
   "id": "52b07d18",
   "metadata": {},
   "outputs": [
    {
     "name": "stdout",
     "output_type": "stream",
     "text": [
      "Ease is a greater threat to progress than hardship. Fall down seven times, get up eight.\n"
     ]
    }
   ],
   "source": [
    "# Print the summary\n",
    "print(summary)"
   ]
  }
 ],
 "metadata": {
  "kernelspec": {
   "display_name": "Python 3 (ipykernel)",
   "language": "python",
   "name": "python3"
  },
  "language_info": {
   "codemirror_mode": {
    "name": "ipython",
    "version": 3
   },
   "file_extension": ".py",
   "mimetype": "text/x-python",
   "name": "python",
   "nbconvert_exporter": "python",
   "pygments_lexer": "ipython3",
   "version": "3.10.6"
  }
 },
 "nbformat": 4,
 "nbformat_minor": 5
}
