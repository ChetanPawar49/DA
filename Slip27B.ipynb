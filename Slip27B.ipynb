{
 "cells": [
  {
   "cell_type": "code",
   "execution_count": 1,
   "id": "4ffc4005",
   "metadata": {},
   "outputs": [],
   "source": [
    "import random\n",
    "import csv\n",
    "import pandas as pd"
   ]
  },
  {
   "cell_type": "code",
   "execution_count": 2,
   "id": "f34862c4",
   "metadata": {},
   "outputs": [],
   "source": [
    "# Generate random transaction data\n",
    "transactions = []\n",
    "for i in range(1, 101):\n",
    "    transaction_id = i\n",
    "    transaction_date = f\"2022-05-{random.randint(1, 31):02d}\"\n",
    "    customer_id = random.randint(1, 10)\n",
    "    item_id = random.choice([\"A\", \"B\", \"C\"])\n",
    "    item_price = round(random.uniform(10.0, 100.0), 2)\n",
    "    quantity = random.randint(1, 10)\n",
    "    transactions.append([transaction_id, transaction_date, customer_id, item_id, item_price, quantity])"
   ]
  },
  {
   "cell_type": "code",
   "execution_count": 3,
   "id": "9e742190",
   "metadata": {},
   "outputs": [],
   "source": [
    "# Save the data to a CSV file\n",
    "with open('transactions.csv', 'w', newline='') as csvfile:\n",
    "    writer = csv.writer(csvfile)\n",
    "    writer.writerow([\"Transaction ID\", \"Transaction Date\", \"Customer ID\", \"Item ID\", \"Item Price\", \"Quantity\"])\n",
    "    for transaction in transactions:\n",
    "        writer.writerow(transaction)"
   ]
  },
  {
   "cell_type": "code",
   "execution_count": 4,
   "id": "9838ff01",
   "metadata": {},
   "outputs": [],
   "source": [
    "# Read the CSV file into a Pandas DataFrame\n",
    "df = pd.read_csv('transactions.csv')"
   ]
  },
  {
   "cell_type": "code",
   "execution_count": 5,
   "id": "dcb28a62",
   "metadata": {},
   "outputs": [],
   "source": [
    "# Convert the “Item Price” column to numeric type\n",
    "df['Item Price'] = pd.to_numeric(df['Item Price'])"
   ]
  },
  {
   "cell_type": "code",
   "execution_count": 6,
   "id": "854f6798",
   "metadata": {},
   "outputs": [],
   "source": [
    "# Calculate the sales amount for each transaction\n",
    "df['Sales'] = df['Item Price'] * df['Quantity']"
   ]
  },
  {
   "cell_type": "code",
   "execution_count": 7,
   "id": "52fa32c0",
   "metadata": {},
   "outputs": [],
   "source": [
    "# Group the transactions by customer ID and calculate the total sales for each customer\n",
    "total_sales = df.groupby('Customer ID')['Sales'].sum().reset_index()"
   ]
  },
  {
   "cell_type": "code",
   "execution_count": 8,
   "id": "b101d74e",
   "metadata": {},
   "outputs": [
    {
     "name": "stdout",
     "output_type": "stream",
     "text": [
      "   Customer ID    Sales\n",
      "0            1  5371.34\n",
      "1            2  2098.29\n",
      "2            3  3087.35\n",
      "3            4  1298.10\n",
      "4            5  2858.68\n",
      "5            6  4534.77\n",
      "6            7  3685.41\n",
      "7            8  2178.61\n",
      "8            9  4406.98\n",
      "9           10  3981.85\n"
     ]
    }
   ],
   "source": [
    "# Print the results\n",
    "print(total_sales)"
   ]
  }
 ],
 "metadata": {
  "kernelspec": {
   "display_name": "Python 3 (ipykernel)",
   "language": "python",
   "name": "python3"
  },
  "language_info": {
   "codemirror_mode": {
    "name": "ipython",
    "version": 3
   },
   "file_extension": ".py",
   "mimetype": "text/x-python",
   "name": "python",
   "nbconvert_exporter": "python",
   "pygments_lexer": "ipython3",
   "version": "3.10.6"
  }
 },
 "nbformat": 4,
 "nbformat_minor": 5
}
